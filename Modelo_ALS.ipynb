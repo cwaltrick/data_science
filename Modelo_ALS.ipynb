{
  "nbformat": 4,
  "nbformat_minor": 0,
  "metadata": {
    "colab": {
      "name": "Modelo ALS",
      "provenance": [],
      "collapsed_sections": [],
      "authorship_tag": "ABX9TyMIVg9Y5o6MoaLYLezXo9BF",
      "include_colab_link": true
    },
    "kernelspec": {
      "name": "python3",
      "display_name": "Python 3"
    }
  },
  "cells": [
    {
      "cell_type": "markdown",
      "metadata": {
        "id": "view-in-github",
        "colab_type": "text"
      },
      "source": [
        "<a href=\"https://colab.research.google.com/github/cwaltrick/data_science/blob/master/Modelo_ALS.ipynb\" target=\"_parent\"><img src=\"https://colab.research.google.com/assets/colab-badge.svg\" alt=\"Open In Colab\"/></a>"
      ]
    },
    {
      "cell_type": "code",
      "metadata": {
        "id": "-CaeYO4F-OPi"
      },
      "source": [
        "# instalar as dependências\n",
        "!apt-get install openjdk-8-jdk-headless -qq > /dev/null\n",
        "!wget -q https://archive.apache.org/dist/spark/spark-2.4.4/spark-2.4.4-bin-hadoop2.7.tgz\n",
        "!tar xf spark-2.4.4-bin-hadoop2.7.tgz\n",
        "!pip install -q findspark"
      ],
      "execution_count": 1,
      "outputs": []
    },
    {
      "cell_type": "code",
      "metadata": {
        "id": "sOGzt4aB-fjg"
      },
      "source": [
        "# configurar as variáveis de ambiente\n",
        "import os\n",
        "os.environ[\"JAVA_HOME\"] = \"/usr/lib/jvm/java-8-openjdk-amd64\"\n",
        "os.environ[\"SPARK_HOME\"] = \"/content/spark-2.4.4-bin-hadoop2.7\"\n",
        "\n",
        "# tornar o pyspark \"importável\"\n",
        "import findspark\n",
        "findspark.init('spark-2.4.4-bin-hadoop2.7')"
      ],
      "execution_count": 2,
      "outputs": []
    },
    {
      "cell_type": "code",
      "metadata": {
        "id": "uIfWkewv-mXF"
      },
      "source": [
        "from __future__ import print_function\n",
        "\n",
        "import sys\n",
        "if sys.version >= '3':\n",
        "    long = int\n",
        "    \n",
        "from pyspark.sql import SparkSession\n",
        "\n",
        "from pyspark.ml.evaluation import RegressionEvaluator #evaluation é a biblioteca para verificação da qualidade do modelo\n",
        "from pyspark.ml.recommendation import ALS # ALS é o modelo de recomendação que será utilizadp\n",
        "from pyspark.sql import Row #row é o formato que o ALS trabalha, row conterá o id do usuario, id filme, nota e timestamp"
      ],
      "execution_count": 3,
      "outputs": []
    },
    {
      "cell_type": "code",
      "metadata": {
        "id": "o_MjmoGl_AaX"
      },
      "source": [
        "spark = SparkSession.builder.master('local[*]').getOrCreate() #criar/iniciar a sessão spark"
      ],
      "execution_count": 4,
      "outputs": []
    },
    {
      "cell_type": "code",
      "metadata": {
        "id": "hbVUD2aqg8Gk"
      },
      "source": [
        "lines = spark.read.text(\"sample_movielens_ratings.txt\").rdd #Carregar os dados. RDD é uma estrutura paralelizada do spark"
      ],
      "execution_count": 6,
      "outputs": []
    },
    {
      "cell_type": "code",
      "metadata": {
        "id": "eqqx9-H1_WOX"
      },
      "source": [
        "parts = lines.map(lambda row: row.value.split(\"::\")) #pega os itens de lines e aplica map para quebrar em partes\n",
        "#fez expressão lambda, nomeou cada linha como row e quebra cada row a cada \"::\" retorna um array com 4 itens"
      ],
      "execution_count": 7,
      "outputs": []
    },
    {
      "cell_type": "code",
      "metadata": {
        "id": "pWwOX1o4DrlY"
      },
      "source": [
        "#ratingsRDD: pega cada parte do item acima e converte para formato Row, instanciando nome e posição\n",
        "ratingsRDD = parts.map(lambda p: Row(userId=int(p[0]), movieId=int(p[1]), rating=float(p[2]), timestamp=long(p[3])))"
      ],
      "execution_count": 8,
      "outputs": []
    },
    {
      "cell_type": "code",
      "metadata": {
        "id": "W5T4NAi1nS2S"
      },
      "source": [
        "ratings = spark.createDataFrame(ratingsRDD) #pega ratingsRDD e coloca em formato de tabela"
      ],
      "execution_count": 9,
      "outputs": []
    },
    {
      "cell_type": "code",
      "metadata": {
        "colab": {
          "base_uri": "https://localhost:8080/"
        },
        "id": "He6QkNy9hXmz",
        "outputId": "993b7a78-0593-43c4-dc99-da1649a8842d"
      },
      "source": [
        "ratings.show()"
      ],
      "execution_count": 10,
      "outputs": [
        {
          "output_type": "stream",
          "text": [
            "+-------+------+----------+------+\n",
            "|movieId|rating| timestamp|userId|\n",
            "+-------+------+----------+------+\n",
            "|      2|   3.0|1424380312|     0|\n",
            "|      3|   1.0|1424380312|     0|\n",
            "|      5|   2.0|1424380312|     0|\n",
            "|      9|   4.0|1424380312|     0|\n",
            "|     11|   1.0|1424380312|     0|\n",
            "|     12|   2.0|1424380312|     0|\n",
            "|     15|   1.0|1424380312|     0|\n",
            "|     17|   1.0|1424380312|     0|\n",
            "|     19|   1.0|1424380312|     0|\n",
            "|     21|   1.0|1424380312|     0|\n",
            "|     23|   1.0|1424380312|     0|\n",
            "|     26|   3.0|1424380312|     0|\n",
            "|     27|   1.0|1424380312|     0|\n",
            "|     28|   1.0|1424380312|     0|\n",
            "|     29|   1.0|1424380312|     0|\n",
            "|     30|   1.0|1424380312|     0|\n",
            "|     31|   1.0|1424380312|     0|\n",
            "|     34|   1.0|1424380312|     0|\n",
            "|     37|   1.0|1424380312|     0|\n",
            "|     41|   2.0|1424380312|     0|\n",
            "+-------+------+----------+------+\n",
            "only showing top 20 rows\n",
            "\n"
          ],
          "name": "stdout"
        }
      ]
    },
    {
      "cell_type": "code",
      "metadata": {
        "id": "-zpPhZ61hgon"
      },
      "source": [
        "(training, test) = ratings.randomSplit([0.8, 0.2]) #divide o df em porções para treinamento e teste"
      ],
      "execution_count": 11,
      "outputs": []
    },
    {
      "cell_type": "code",
      "metadata": {
        "id": "jp9FAaBshqUh"
      },
      "source": [
        "als = ALS(maxIter=5, regParam=0.01, userCol=\"userId\", itemCol=\"movieId\", ratingCol=\"rating\", coldStartStrategy=\"drop\") \n",
        "#instancia o modelo ALS; maxIter é o máximo de iterações, regParam é coeficiente de aprendizado,\n",
        "#coldstart é quando o usuário fez poucas iterações com o sistemas ou o sistema tem a matriz muito esparsa, drop: se algum usuário\n",
        "#tiver problema de coldstart, não será considerado no sistema"
      ],
      "execution_count": 12,
      "outputs": []
    },
    {
      "cell_type": "code",
      "metadata": {
        "id": "jLt3j9WXhih9"
      },
      "source": [
        "model = als.fit(training) #treina o modelo com o dataset de treinamento"
      ],
      "execution_count": 14,
      "outputs": []
    },
    {
      "cell_type": "code",
      "metadata": {
        "colab": {
          "base_uri": "https://localhost:8080/"
        },
        "id": "ooGOA8s8iLES",
        "outputId": "958ee0da-8f26-4e4a-cc65-e04adf4ee1b4"
      },
      "source": [
        "predictions = model.transform(test) #aplica o modelo no conjunto de teste para fazer predições\n",
        "evaluator = RegressionEvaluator(metricName=\"rmse\", labelCol=\"rating\",\n",
        "                               predictionCol=\"prediction\")\n",
        "rmse = evaluator.evaluate(predictions)\n",
        "print(\"Erro médio quadrático = \" + str(rmse))"
      ],
      "execution_count": 15,
      "outputs": [
        {
          "output_type": "stream",
          "text": [
            "Erro médio quadrático = 1.82015383545805\n"
          ],
          "name": "stdout"
        }
      ]
    },
    {
      "cell_type": "code",
      "metadata": {
        "id": "1AayAItWmX53"
      },
      "source": [
        "userRec = model.recommendForAllUsers(10) #pegar todos os usuários e gerar 10 recomendações"
      ],
      "execution_count": 16,
      "outputs": []
    },
    {
      "cell_type": "code",
      "metadata": {
        "colab": {
          "base_uri": "https://localhost:8080/"
        },
        "id": "J2D3AX47mbno",
        "outputId": "3d399616-f62d-4435-e038-532c6ec5061a"
      },
      "source": [
        "userRec.show()"
      ],
      "execution_count": 17,
      "outputs": [
        {
          "output_type": "stream",
          "text": [
            "+------+--------------------+\n",
            "|userId|     recommendations|\n",
            "+------+--------------------+\n",
            "|    28|[[91, 7.199192], ...|\n",
            "|    26|[[30, 6.8022966],...|\n",
            "|    27|[[18, 4.345591], ...|\n",
            "|    12|[[35, 5.1877465],...|\n",
            "|    22|[[4, 5.187028], [...|\n",
            "|     1|[[17, 4.4631], [9...|\n",
            "|    13|[[2, 3.0728006], ...|\n",
            "|     6|[[25, 4.814437], ...|\n",
            "|    16|[[76, 5.6596413],...|\n",
            "|     3|[[32, 5.3414116],...|\n",
            "|    20|[[46, 5.877379], ...|\n",
            "|     5|[[18, 4.877655], ...|\n",
            "|    19|[[51, 5.3770857],...|\n",
            "|    15|[[46, 4.7499933],...|\n",
            "|    17|[[90, 5.0351977],...|\n",
            "|     9|[[51, 5.090912], ...|\n",
            "|     4|[[92, 5.3576517],...|\n",
            "|     8|[[25, 5.7912273],...|\n",
            "|    23|[[46, 6.087576], ...|\n",
            "|     7|[[25, 4.92321], [...|\n",
            "+------+--------------------+\n",
            "only showing top 20 rows\n",
            "\n"
          ],
          "name": "stdout"
        }
      ]
    },
    {
      "cell_type": "code",
      "metadata": {
        "id": "at1apd0lmhBk"
      },
      "source": [
        "movieRecs = model.recommendForAllItems(10) #faz a transposta da matriz de ratings, a fim de recomendar usuários em potencial para itens específicos"
      ],
      "execution_count": 18,
      "outputs": []
    },
    {
      "cell_type": "code",
      "metadata": {
        "colab": {
          "base_uri": "https://localhost:8080/"
        },
        "id": "Al3u35R2mi_p",
        "outputId": "37ff86e2-aff0-4436-fb6f-bdf585502ba0"
      },
      "source": [
        "movieRecs.show()"
      ],
      "execution_count": 19,
      "outputs": [
        {
          "output_type": "stream",
          "text": [
            "+-------+--------------------+\n",
            "|movieId|     recommendations|\n",
            "+-------+--------------------+\n",
            "|     31|[[28, 4.4335637],...|\n",
            "|     85|[[16, 4.4600816],...|\n",
            "|     65|[[23, 4.8359885],...|\n",
            "|     53|[[21, 4.8665752],...|\n",
            "|     78|[[5, 1.405179], [...|\n",
            "|     34|[[23, 5.4059834],...|\n",
            "|     81|[[12, 5.1232557],...|\n",
            "|     28|[[18, 5.062015], ...|\n",
            "|     76|[[16, 5.6596413],...|\n",
            "|     26|[[22, 4.0410576],...|\n",
            "|     27|[[2, 5.0788355], ...|\n",
            "|     44|[[11, 3.253865], ...|\n",
            "|     12|[[28, 4.8772264],...|\n",
            "|     91|[[28, 7.199192], ...|\n",
            "|     22|[[26, 5.148896], ...|\n",
            "|     93|[[27, 1.0710598],...|\n",
            "|     47|[[8, 4.567012], [...|\n",
            "|      1|[[16, 4.053723], ...|\n",
            "|     52|[[8, 4.92321], [2...|\n",
            "|     13|[[23, 4.0366826],...|\n",
            "+-------+--------------------+\n",
            "only showing top 20 rows\n",
            "\n"
          ],
          "name": "stdout"
        }
      ]
    },
    {
      "cell_type": "code",
      "metadata": {
        "id": "otO0JDGRmmPd"
      },
      "source": [
        "users = ratings.select(als.getUserCol()).distinct() #selecina os usuários que existem nesse universo"
      ],
      "execution_count": 20,
      "outputs": []
    },
    {
      "cell_type": "code",
      "metadata": {
        "colab": {
          "base_uri": "https://localhost:8080/"
        },
        "id": "tM8z5hpumo-f",
        "outputId": "bbcf1956-9af1-40ac-8f49-41308e775cb1"
      },
      "source": [
        "users.show()"
      ],
      "execution_count": 21,
      "outputs": [
        {
          "output_type": "stream",
          "text": [
            "+------+\n",
            "|userId|\n",
            "+------+\n",
            "|    26|\n",
            "|    29|\n",
            "|    19|\n",
            "|     0|\n",
            "|    22|\n",
            "|     7|\n",
            "|    25|\n",
            "|     6|\n",
            "|     9|\n",
            "|    27|\n",
            "|    17|\n",
            "|    28|\n",
            "|     5|\n",
            "|     1|\n",
            "|    10|\n",
            "|     3|\n",
            "|    12|\n",
            "|     8|\n",
            "|    11|\n",
            "|     2|\n",
            "+------+\n",
            "only showing top 20 rows\n",
            "\n"
          ],
          "name": "stdout"
        }
      ]
    },
    {
      "cell_type": "code",
      "metadata": {
        "id": "YeIDF41BmtFd"
      },
      "source": [
        "UserRecsOnlyItemId = userRec.select(userRec['userId'], userRec['recommendations']['movieid'])"
      ],
      "execution_count": 22,
      "outputs": []
    },
    {
      "cell_type": "code",
      "metadata": {
        "colab": {
          "base_uri": "https://localhost:8080/"
        },
        "id": "JFt5sr2voUbS",
        "outputId": "d056b74c-d451-470f-f39a-1f6d06fd86f8"
      },
      "source": [
        "UserRecsOnlyItemId.show(10, False) #mostra somente as recomendações por usuário"
      ],
      "execution_count": 23,
      "outputs": [
        {
          "output_type": "stream",
          "text": [
            "+------+----------------------------------------+\n",
            "|userId|recommendations.movieid                 |\n",
            "+------+----------------------------------------+\n",
            "|28    |[91, 92, 12, 81, 79, 31, 89, 49, 35, 82]|\n",
            "|26    |[30, 32, 94, 17, 22, 88, 7, 98, 90, 24] |\n",
            "|27    |[18, 2, 48, 19, 55, 66, 23, 44, 7, 33]  |\n",
            "|12    |[35, 81, 17, 88, 79, 64, 69, 27, 31, 16]|\n",
            "|22    |[4, 51, 75, 74, 52, 88, 30, 9, 85, 58]  |\n",
            "|1     |[17, 90, 62, 51, 69, 85, 28, 22, 38, 76]|\n",
            "|13    |[2, 52, 29, 18, 53, 9, 43, 92, 58, 83]  |\n",
            "|6     |[25, 62, 51, 90, 76, 85, 58, 2, 95, 63] |\n",
            "|16    |[76, 62, 90, 29, 51, 54, 85, 1, 53, 69] |\n",
            "|3     |[32, 51, 30, 80, 7, 85, 76, 8, 29, 87]  |\n",
            "+------+----------------------------------------+\n",
            "only showing top 10 rows\n",
            "\n"
          ],
          "name": "stdout"
        }
      ]
    }
  ]
}